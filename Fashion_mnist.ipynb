{
  "nbformat": 4,
  "nbformat_minor": 0,
  "metadata": {
    "colab": {
      "name": "Untitled20.ipynb",
      "provenance": []
    },
    "kernelspec": {
      "name": "python3",
      "display_name": "Python 3"
    },
    "language_info": {
      "name": "python"
    }
  },
  "cells": [
    {
      "cell_type": "code",
      "metadata": {
        "id": "hM_yjPox6KY7"
      },
      "source": [
        "import tensorflow as tf\n"
      ],
      "execution_count": 1,
      "outputs": []
    },
    {
      "cell_type": "code",
      "metadata": {
        "colab": {
          "base_uri": "https://localhost:8080/",
          "height": 35
        },
        "id": "klzzSTcs6hhk",
        "outputId": "e4674751-d98d-44c9-ade1-55c1853ef2ef"
      },
      "source": [
        "tf.keras.__version__\n"
      ],
      "execution_count": 3,
      "outputs": [
        {
          "output_type": "execute_result",
          "data": {
            "application/vnd.google.colaboratory.intrinsic+json": {
              "type": "string"
            },
            "text/plain": [
              "'2.5.0'"
            ]
          },
          "metadata": {
            "tags": []
          },
          "execution_count": 3
        }
      ]
    },
    {
      "cell_type": "code",
      "metadata": {
        "id": "YjVmrJTn6omA"
      },
      "source": [
        "fashion_mnist = tf.keras.datasets.fashion_mnist"
      ],
      "execution_count": 6,
      "outputs": []
    },
    {
      "cell_type": "code",
      "metadata": {
        "colab": {
          "base_uri": "https://localhost:8080/"
        },
        "id": "htbF1J2H67nY",
        "outputId": "9f2175af-83e7-4eb7-ebbf-440b8789bfa1"
      },
      "source": [
        "(X_train_full,y_train_full),(X_test,y_test) = fashion_mnist.load_data()"
      ],
      "execution_count": 7,
      "outputs": [
        {
          "output_type": "stream",
          "text": [
            "Downloading data from https://storage.googleapis.com/tensorflow/tf-keras-datasets/train-labels-idx1-ubyte.gz\n",
            "32768/29515 [=================================] - 0s 0us/step\n",
            "Downloading data from https://storage.googleapis.com/tensorflow/tf-keras-datasets/train-images-idx3-ubyte.gz\n",
            "26427392/26421880 [==============================] - 0s 0us/step\n",
            "Downloading data from https://storage.googleapis.com/tensorflow/tf-keras-datasets/t10k-labels-idx1-ubyte.gz\n",
            "8192/5148 [===============================================] - 0s 0us/step\n",
            "Downloading data from https://storage.googleapis.com/tensorflow/tf-keras-datasets/t10k-images-idx3-ubyte.gz\n",
            "4423680/4422102 [==============================] - 0s 0us/step\n"
          ],
          "name": "stdout"
        }
      ]
    },
    {
      "cell_type": "code",
      "metadata": {
        "colab": {
          "base_uri": "https://localhost:8080/"
        },
        "id": "LE4J5fFB7pNq",
        "outputId": "48db5900-3c80-4d1d-a4b4-6f6c17dc8d95"
      },
      "source": [
        "print(X_train_full.shape)\n",
        "print(X_test.shape)"
      ],
      "execution_count": 10,
      "outputs": [
        {
          "output_type": "stream",
          "text": [
            "(60000, 28, 28)\n",
            "(10000, 28, 28)\n"
          ],
          "name": "stdout"
        }
      ]
    },
    {
      "cell_type": "code",
      "metadata": {
        "id": "KOJiA9gR8N1p"
      },
      "source": [
        "X_valid,X_train = X_train_full[:5000]/255.0,X_train_full[5000:]/255.0\n",
        "y_valid,y_train = y_train_full[:5000],y_train_full[5000:]"
      ],
      "execution_count": 11,
      "outputs": []
    },
    {
      "cell_type": "code",
      "metadata": {
        "id": "8A9K2sAS8z16"
      },
      "source": [
        "class_names = ['T-shirt/top','Trouser','Pullover','Dress','Coat','Sandal','Shirt','Sneaker','Bag','Ankle boot']"
      ],
      "execution_count": 12,
      "outputs": []
    },
    {
      "cell_type": "code",
      "metadata": {
        "id": "pDXR72C3-Khy"
      },
      "source": [
        "model = tf.keras.Sequential([\n",
        "    tf.keras.layers.Flatten(input_shape = [28,28]),\n",
        "    tf.keras.layers.Dense(300,activation = 'relu'),\n",
        "    tf.keras.layers.Dense(100,activation = 'relu'),\n",
        "    tf.keras.layers.Dense(10,activation = 'softmax')\n",
        "     \n",
        "])"
      ],
      "execution_count": 14,
      "outputs": []
    },
    {
      "cell_type": "code",
      "metadata": {
        "colab": {
          "base_uri": "https://localhost:8080/"
        },
        "id": "9eIBb1G3-UVT",
        "outputId": "c0fcc13f-b21d-4e3b-9980-22156b3c0be9"
      },
      "source": [
        "model.summary()"
      ],
      "execution_count": 16,
      "outputs": [
        {
          "output_type": "stream",
          "text": [
            "Model: \"sequential_1\"\n",
            "_________________________________________________________________\n",
            "Layer (type)                 Output Shape              Param #   \n",
            "=================================================================\n",
            "flatten_1 (Flatten)          (None, 784)               0         \n",
            "_________________________________________________________________\n",
            "dense_3 (Dense)              (None, 300)               235500    \n",
            "_________________________________________________________________\n",
            "dense_4 (Dense)              (None, 100)               30100     \n",
            "_________________________________________________________________\n",
            "dense_5 (Dense)              (None, 10)                1010      \n",
            "=================================================================\n",
            "Total params: 266,610\n",
            "Trainable params: 266,610\n",
            "Non-trainable params: 0\n",
            "_________________________________________________________________\n"
          ],
          "name": "stdout"
        }
      ]
    },
    {
      "cell_type": "code",
      "metadata": {
        "colab": {
          "base_uri": "https://localhost:8080/"
        },
        "id": "wCBrrriB-V1Q",
        "outputId": "c37d2e79-5d85-4d2c-c98b-7298fc0c23cb"
      },
      "source": [
        "model.layers"
      ],
      "execution_count": 21,
      "outputs": [
        {
          "output_type": "execute_result",
          "data": {
            "text/plain": [
              "[<tensorflow.python.keras.layers.core.Flatten at 0x7fef9bab8250>,\n",
              " <tensorflow.python.keras.layers.core.Dense at 0x7fef9bcd97d0>,\n",
              " <tensorflow.python.keras.layers.core.Dense at 0x7fef9bb12ed0>,\n",
              " <tensorflow.python.keras.layers.core.Dense at 0x7fef9bcd9fd0>]"
            ]
          },
          "metadata": {
            "tags": []
          },
          "execution_count": 21
        }
      ]
    },
    {
      "cell_type": "code",
      "metadata": {
        "colab": {
          "base_uri": "https://localhost:8080/",
          "height": 35
        },
        "id": "FR-mdT2z-jwQ",
        "outputId": "87238b05-2476-4dde-e30f-06181d725fd5"
      },
      "source": [
        "model.layers[1].name"
      ],
      "execution_count": 24,
      "outputs": [
        {
          "output_type": "execute_result",
          "data": {
            "application/vnd.google.colaboratory.intrinsic+json": {
              "type": "string"
            },
            "text/plain": [
              "'dense_3'"
            ]
          },
          "metadata": {
            "tags": []
          },
          "execution_count": 24
        }
      ]
    },
    {
      "cell_type": "code",
      "metadata": {
        "id": "JblIILWX_G_Y"
      },
      "source": [
        "weights,biases = model.layers[1].get_weights()"
      ],
      "execution_count": 33,
      "outputs": []
    },
    {
      "cell_type": "code",
      "metadata": {
        "colab": {
          "base_uri": "https://localhost:8080/"
        },
        "id": "ZLyjQUgQ_Uiw",
        "outputId": "82acf5d8-c503-4045-970e-8447d3e636d2"
      },
      "source": [
        "print(weights.shape)\n",
        "print(biases.shape)"
      ],
      "execution_count": 35,
      "outputs": [
        {
          "output_type": "stream",
          "text": [
            "(784, 300)\n",
            "(300,)\n"
          ],
          "name": "stdout"
        }
      ]
    },
    {
      "cell_type": "code",
      "metadata": {
        "id": "TK7VJCel_qZG"
      },
      "source": [
        "model.compile(loss = 'sparse_categorical_crossentropy',optimizer = 'sgd',metrics = ['accuracy'])"
      ],
      "execution_count": 36,
      "outputs": []
    },
    {
      "cell_type": "code",
      "metadata": {
        "colab": {
          "base_uri": "https://localhost:8080/"
        },
        "id": "rJsp4PJJAIoj",
        "outputId": "f582b4f7-b73c-4494-f1e7-d947c427f0f6"
      },
      "source": [
        "history = model.fit(X_train,y_train,epochs = 30,validation_data=(X_valid,y_valid))"
      ],
      "execution_count": 38,
      "outputs": [
        {
          "output_type": "stream",
          "text": [
            "Epoch 1/30\n",
            "1719/1719 [==============================] - 5s 2ms/step - loss: 0.7131 - accuracy: 0.7662 - val_loss: 0.5006 - val_accuracy: 0.8272\n",
            "Epoch 2/30\n",
            "1719/1719 [==============================] - 4s 2ms/step - loss: 0.4866 - accuracy: 0.8301 - val_loss: 0.4378 - val_accuracy: 0.8536\n",
            "Epoch 3/30\n",
            "1719/1719 [==============================] - 4s 2ms/step - loss: 0.4433 - accuracy: 0.8456 - val_loss: 0.4187 - val_accuracy: 0.8558\n",
            "Epoch 4/30\n",
            "1719/1719 [==============================] - 4s 2ms/step - loss: 0.4151 - accuracy: 0.8535 - val_loss: 0.4050 - val_accuracy: 0.8614\n",
            "Epoch 5/30\n",
            "1719/1719 [==============================] - 4s 2ms/step - loss: 0.3962 - accuracy: 0.8612 - val_loss: 0.3760 - val_accuracy: 0.8684\n",
            "Epoch 6/30\n",
            "1719/1719 [==============================] - 4s 2ms/step - loss: 0.3794 - accuracy: 0.8669 - val_loss: 0.3804 - val_accuracy: 0.8680\n",
            "Epoch 7/30\n",
            "1719/1719 [==============================] - 4s 2ms/step - loss: 0.3663 - accuracy: 0.8703 - val_loss: 0.3676 - val_accuracy: 0.8708\n",
            "Epoch 8/30\n",
            "1719/1719 [==============================] - 4s 2ms/step - loss: 0.3538 - accuracy: 0.8748 - val_loss: 0.3535 - val_accuracy: 0.8776\n",
            "Epoch 9/30\n",
            "1719/1719 [==============================] - 4s 2ms/step - loss: 0.3437 - accuracy: 0.8780 - val_loss: 0.3428 - val_accuracy: 0.8796\n",
            "Epoch 10/30\n",
            "1719/1719 [==============================] - 4s 2ms/step - loss: 0.3338 - accuracy: 0.8808 - val_loss: 0.3499 - val_accuracy: 0.8768\n",
            "Epoch 11/30\n",
            "1719/1719 [==============================] - 4s 2ms/step - loss: 0.3261 - accuracy: 0.8840 - val_loss: 0.3297 - val_accuracy: 0.8832\n",
            "Epoch 12/30\n",
            "1719/1719 [==============================] - 4s 2ms/step - loss: 0.3169 - accuracy: 0.8865 - val_loss: 0.3899 - val_accuracy: 0.8564\n",
            "Epoch 13/30\n",
            "1719/1719 [==============================] - 4s 2ms/step - loss: 0.3100 - accuracy: 0.8889 - val_loss: 0.3268 - val_accuracy: 0.8838\n",
            "Epoch 14/30\n",
            "1719/1719 [==============================] - 4s 2ms/step - loss: 0.3038 - accuracy: 0.8909 - val_loss: 0.3325 - val_accuracy: 0.8798\n",
            "Epoch 15/30\n",
            "1719/1719 [==============================] - 4s 2ms/step - loss: 0.2951 - accuracy: 0.8942 - val_loss: 0.3299 - val_accuracy: 0.8830\n",
            "Epoch 16/30\n",
            "1719/1719 [==============================] - 4s 2ms/step - loss: 0.2896 - accuracy: 0.8957 - val_loss: 0.3365 - val_accuracy: 0.8780\n",
            "Epoch 17/30\n",
            "1719/1719 [==============================] - 4s 2ms/step - loss: 0.2841 - accuracy: 0.8977 - val_loss: 0.3308 - val_accuracy: 0.8852\n",
            "Epoch 18/30\n",
            "1719/1719 [==============================] - 4s 2ms/step - loss: 0.2788 - accuracy: 0.8990 - val_loss: 0.3182 - val_accuracy: 0.8888\n",
            "Epoch 19/30\n",
            "1719/1719 [==============================] - 4s 2ms/step - loss: 0.2731 - accuracy: 0.9021 - val_loss: 0.3240 - val_accuracy: 0.8850\n",
            "Epoch 20/30\n",
            "1719/1719 [==============================] - 4s 2ms/step - loss: 0.2682 - accuracy: 0.9027 - val_loss: 0.3079 - val_accuracy: 0.8874\n",
            "Epoch 21/30\n",
            "1719/1719 [==============================] - 4s 2ms/step - loss: 0.2637 - accuracy: 0.9049 - val_loss: 0.3296 - val_accuracy: 0.8858\n",
            "Epoch 22/30\n",
            "1719/1719 [==============================] - 4s 2ms/step - loss: 0.2592 - accuracy: 0.9078 - val_loss: 0.3181 - val_accuracy: 0.8862\n",
            "Epoch 23/30\n",
            "1719/1719 [==============================] - 4s 2ms/step - loss: 0.2533 - accuracy: 0.9079 - val_loss: 0.3011 - val_accuracy: 0.8892\n",
            "Epoch 24/30\n",
            "1719/1719 [==============================] - 4s 2ms/step - loss: 0.2492 - accuracy: 0.9101 - val_loss: 0.3207 - val_accuracy: 0.8880\n",
            "Epoch 25/30\n",
            "1719/1719 [==============================] - 4s 2ms/step - loss: 0.2459 - accuracy: 0.9112 - val_loss: 0.3023 - val_accuracy: 0.8936\n",
            "Epoch 26/30\n",
            "1719/1719 [==============================] - 4s 2ms/step - loss: 0.2422 - accuracy: 0.9122 - val_loss: 0.2970 - val_accuracy: 0.8954\n",
            "Epoch 27/30\n",
            "1719/1719 [==============================] - 4s 2ms/step - loss: 0.2373 - accuracy: 0.9150 - val_loss: 0.3150 - val_accuracy: 0.8856\n",
            "Epoch 28/30\n",
            "1719/1719 [==============================] - 4s 3ms/step - loss: 0.2333 - accuracy: 0.9161 - val_loss: 0.2977 - val_accuracy: 0.8912\n",
            "Epoch 29/30\n",
            "1719/1719 [==============================] - 4s 2ms/step - loss: 0.2298 - accuracy: 0.9182 - val_loss: 0.2987 - val_accuracy: 0.8970\n",
            "Epoch 30/30\n",
            "1719/1719 [==============================] - 4s 2ms/step - loss: 0.2260 - accuracy: 0.9181 - val_loss: 0.2988 - val_accuracy: 0.8970\n"
          ],
          "name": "stdout"
        }
      ]
    },
    {
      "cell_type": "code",
      "metadata": {
        "id": "PMfdhs6wAahL",
        "outputId": "bd632e2a-f29c-485f-f191-d86836d5e134",
        "colab": {
          "base_uri": "https://localhost:8080/",
          "height": 324
        }
      },
      "source": [
        "import pandas as pd\n",
        "import matplotlib.pyplot as plt\n",
        "\n",
        "pd.DataFrame(history.history).plot(figsize=(8,5))\n",
        "plt.grid(True)\n",
        "plt.gca().set_ylim(0,1)\n",
        "plt.show()"
      ],
      "execution_count": 43,
      "outputs": [
        {
          "output_type": "display_data",
          "data": {
            "image/png": "[encoded data removed]",
            "text/plain": [
              "<Figure size 576x360 with 1 Axes>"
            ]
          },
          "metadata": {
            "tags": [],
            "needs_background": "light"
          }
        }
      ]
    },
    {
      "cell_type": "code",
      "metadata": {
        "id": "WZsfmGbaBTI9",
        "outputId": "a4d5c151-67c4-4d55-aa3c-46efcb0cc3d2",
        "colab": {
          "base_uri": "https://localhost:8080/"
        }
      },
      "source": [
        "model.evaluate(X_test,y_test)"
      ],
      "execution_count": 46,
      "outputs": [
        {
          "output_type": "stream",
          "text": [
            "313/313 [==============================] - 1s 2ms/step - loss: 75.8281 - accuracy: 0.8345\n"
          ],
          "name": "stdout"
        },
        {
          "output_type": "execute_result",
          "data": {
            "text/plain": [
              "[75.82814025878906, 0.8345000147819519]"
            ]
          },
          "metadata": {
            "tags": []
          },
          "execution_count": 46
        }
      ]
    },
    {
      "cell_type": "code",
      "metadata": {
        "id": "kcADAJsEB58M",
        "outputId": "fb77d9bb-6483-4275-a6e7-41bae4559d5f",
        "colab": {
          "base_uri": "https://localhost:8080/"
        }
      },
      "source": [
        "X_new = X_test[:3]\n",
        "y_proba = model.predict(X_new)\n",
        "y_proba"
      ],
      "execution_count": 58,
      "outputs": [
        {
          "output_type": "execute_result",
          "data": {
            "text/plain": [
              "array([[0., 0., 0., 0., 0., 0., 0., 0., 0., 1.],\n",
              "       [0., 0., 1., 0., 0., 0., 0., 0., 0., 0.],\n",
              "       [0., 1., 0., 0., 0., 0., 0., 0., 0., 0.]], dtype=float32)"
            ]
          },
          "metadata": {
            "tags": []
          },
          "execution_count": 58
        }
      ]
    },
    {
      "cell_type": "code",
      "metadata": {
        "id": "_2EGhsdyDS-O"
      },
      "source": [
        "import numpy as np"
      ],
      "execution_count": 59,
      "outputs": []
    },
    {
      "cell_type": "code",
      "metadata": {
        "id": "j_L3JxDfCs9E",
        "outputId": "ec10c30b-8a70-495b-e5cf-53b8b5fd77cd",
        "colab": {
          "base_uri": "https://localhost:8080/"
        }
      },
      "source": [
        " y_pred = np.argmax(model.predict(X_new), axis=-1)\n",
        " print(y_pred)"
      ],
      "execution_count": 60,
      "outputs": [
        {
          "output_type": "stream",
          "text": [
            "[9 2 1]\n"
          ],
          "name": "stdout"
        }
      ]
    },
    {
      "cell_type": "code",
      "metadata": {
        "id": "6cLifXzpC0AJ",
        "outputId": "c31af046-8c96-4aa4-f284-e1b76a9e856c",
        "colab": {
          "base_uri": "https://localhost:8080/"
        }
      },
      "source": [
        "np.array(class_names)[y_pred]"
      ],
      "execution_count": 62,
      "outputs": [
        {
          "output_type": "execute_result",
          "data": {
            "text/plain": [
              "array(['Ankle boot', 'Pullover', 'Trouser'], dtype='<U11')"
            ]
          },
          "metadata": {
            "tags": []
          },
          "execution_count": 62
        }
      ]
    }
  ]
}