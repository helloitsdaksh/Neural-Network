{
  "nbformat": 4,
  "nbformat_minor": 0,
  "metadata": {
    "colab": {
      "name": "Untitled20.ipynb",
      "provenance": [],
      "collapsed_sections": []
    },
    "kernelspec": {
      "name": "python3",
      "display_name": "Python 3"
    },
    "language_info": {
      "name": "python"
    }
  },
  "cells": [
    {
      "cell_type": "code",
      "metadata": {
        "id": "pyqneoXGkA1J"
      },
      "source": [
        "import tensorflow as tf\n",
        "import pandas as pd\n",
        "import matplotlib.pyplot as plt\n",
        "import numpy as np\n",
        "import cv2\n"
      ],
      "execution_count": null,
      "outputs": []
    },
    {
      "cell_type": "code",
      "metadata": {
        "id": "H0r0rY0ekxRk",
        "colab": {
          "base_uri": "https://localhost:8080/"
        },
        "outputId": "0d43559a-5ba7-4618-d7ed-a3367a7d28dd"
      },
      "source": [
        "(X_train_full,y_train_full),(X_test,y_test) = tf.keras.datasets.mnist.load_data(path=\"mnist.npz\")"
      ],
      "execution_count": null,
      "outputs": [
        {
          "output_type": "stream",
          "text": [
            "Downloading data from https://storage.googleapis.com/tensorflow/tf-keras-datasets/mnist.npz\n",
            "11493376/11490434 [==============================] - 0s 0us/step\n"
          ],
          "name": "stdout"
        }
      ]
    },
    {
      "cell_type": "code",
      "metadata": {
        "colab": {
          "base_uri": "https://localhost:8080/"
        },
        "id": "gf1S7UTEkxZw",
        "outputId": "e62b98d7-90d6-43bb-c4fe-6ed31adabbd7"
      },
      "source": [
        "print(X_train_full.shape)\n",
        "print(X_test.shape)"
      ],
      "execution_count": null,
      "outputs": [
        {
          "output_type": "stream",
          "text": [
            "(60000, 28, 28)\n",
            "(10000, 28, 28)\n"
          ],
          "name": "stdout"
        }
      ]
    },
    {
      "cell_type": "code",
      "metadata": {
        "id": "DDSbi_8Okxfx"
      },
      "source": [
        "X_valid,X_train = X_train_full[:5000]/255.0,X_train_full[5000:]/255.0\n",
        "y_valid,y_train = y_train_full[:5000],y_train_full[5000:]"
      ],
      "execution_count": null,
      "outputs": []
    },
    {
      "cell_type": "code",
      "metadata": {
        "id": "As1ZmTT0kxo4"
      },
      "source": [
        "model = tf.keras.Sequential([\n",
        "    tf.keras.layers.Flatten(input_shape = [28,28]),\n",
        "    tf.keras.layers.Dense(300,activation = 'relu'),\n",
        "    tf.keras.layers.Dense(100,activation = 'relu'),\n",
        "    tf.keras.layers.Dense(10,activation = 'softmax')\n",
        "     \n",
        "])"
      ],
      "execution_count": null,
      "outputs": []
    },
    {
      "cell_type": "code",
      "metadata": {
        "id": "3gxFcRawxMUl"
      },
      "source": [
        "model.compile(loss = 'sparse_categorical_crossentropy',optimizer = 'sgd',metrics = ['accuracy'])"
      ],
      "execution_count": null,
      "outputs": []
    },
    {
      "cell_type": "code",
      "metadata": {
        "colab": {
          "base_uri": "https://localhost:8080/"
        },
        "id": "qT0RuWT3xP9Q",
        "outputId": "75419160-e28e-4977-d805-63849ad48f00"
      },
      "source": [
        "history = model.fit(X_train,y_train,epochs = 30,validation_data=(X_valid,y_valid))"
      ],
      "execution_count": null,
      "outputs": [
        {
          "output_type": "stream",
          "text": [
            "Epoch 1/30\n",
            "1719/1719 [==============================] - 6s 3ms/step - loss: 0.6155 - accuracy: 0.8392 - val_loss: 0.3074 - val_accuracy: 0.9150\n",
            "Epoch 2/30\n",
            "1719/1719 [==============================] - 6s 3ms/step - loss: 0.2915 - accuracy: 0.9171 - val_loss: 0.2452 - val_accuracy: 0.9312\n",
            "Epoch 3/30\n",
            "1719/1719 [==============================] - 6s 3ms/step - loss: 0.2393 - accuracy: 0.9319 - val_loss: 0.2099 - val_accuracy: 0.9400\n",
            "Epoch 4/30\n",
            "1719/1719 [==============================] - 6s 3ms/step - loss: 0.2059 - accuracy: 0.9407 - val_loss: 0.1872 - val_accuracy: 0.9502\n",
            "Epoch 5/30\n",
            "1719/1719 [==============================] - 6s 3ms/step - loss: 0.1795 - accuracy: 0.9490 - val_loss: 0.1613 - val_accuracy: 0.9562\n",
            "Epoch 6/30\n",
            "1719/1719 [==============================] - 6s 3ms/step - loss: 0.1595 - accuracy: 0.9541 - val_loss: 0.1500 - val_accuracy: 0.9588\n",
            "Epoch 7/30\n",
            "1719/1719 [==============================] - 6s 3ms/step - loss: 0.1433 - accuracy: 0.9591 - val_loss: 0.1333 - val_accuracy: 0.9642\n",
            "Epoch 8/30\n",
            "1719/1719 [==============================] - 6s 3ms/step - loss: 0.1291 - accuracy: 0.9635 - val_loss: 0.1248 - val_accuracy: 0.9680\n",
            "Epoch 9/30\n",
            "1719/1719 [==============================] - 6s 3ms/step - loss: 0.1174 - accuracy: 0.9669 - val_loss: 0.1193 - val_accuracy: 0.9678\n",
            "Epoch 10/30\n",
            "1719/1719 [==============================] - 6s 3ms/step - loss: 0.1075 - accuracy: 0.9695 - val_loss: 0.1092 - val_accuracy: 0.9710\n",
            "Epoch 11/30\n",
            "1719/1719 [==============================] - 6s 3ms/step - loss: 0.0990 - accuracy: 0.9723 - val_loss: 0.1043 - val_accuracy: 0.9702\n",
            "Epoch 12/30\n",
            "1719/1719 [==============================] - 6s 3ms/step - loss: 0.0913 - accuracy: 0.9747 - val_loss: 0.0996 - val_accuracy: 0.9726\n",
            "Epoch 13/30\n",
            "1719/1719 [==============================] - 6s 3ms/step - loss: 0.0842 - accuracy: 0.9765 - val_loss: 0.0950 - val_accuracy: 0.9732\n",
            "Epoch 14/30\n",
            "1719/1719 [==============================] - 6s 4ms/step - loss: 0.0787 - accuracy: 0.9784 - val_loss: 0.0901 - val_accuracy: 0.9756\n",
            "Epoch 15/30\n",
            "1719/1719 [==============================] - 6s 3ms/step - loss: 0.0732 - accuracy: 0.9799 - val_loss: 0.0887 - val_accuracy: 0.9756\n",
            "Epoch 16/30\n",
            "1719/1719 [==============================] - 6s 3ms/step - loss: 0.0683 - accuracy: 0.9814 - val_loss: 0.0845 - val_accuracy: 0.9758\n",
            "Epoch 17/30\n",
            "1719/1719 [==============================] - 6s 3ms/step - loss: 0.0636 - accuracy: 0.9828 - val_loss: 0.0831 - val_accuracy: 0.9764\n",
            "Epoch 18/30\n",
            "1719/1719 [==============================] - 6s 3ms/step - loss: 0.0600 - accuracy: 0.9838 - val_loss: 0.0799 - val_accuracy: 0.9780\n",
            "Epoch 19/30\n",
            "1719/1719 [==============================] - 6s 3ms/step - loss: 0.0561 - accuracy: 0.9845 - val_loss: 0.0768 - val_accuracy: 0.9778\n",
            "Epoch 20/30\n",
            "1719/1719 [==============================] - 6s 3ms/step - loss: 0.0525 - accuracy: 0.9860 - val_loss: 0.0788 - val_accuracy: 0.9788\n",
            "Epoch 21/30\n",
            "1719/1719 [==============================] - 6s 3ms/step - loss: 0.0494 - accuracy: 0.9869 - val_loss: 0.0761 - val_accuracy: 0.9776\n",
            "Epoch 22/30\n",
            "1719/1719 [==============================] - 6s 3ms/step - loss: 0.0462 - accuracy: 0.9877 - val_loss: 0.0756 - val_accuracy: 0.9770\n",
            "Epoch 23/30\n",
            "1719/1719 [==============================] - 6s 3ms/step - loss: 0.0436 - accuracy: 0.9888 - val_loss: 0.0712 - val_accuracy: 0.9800\n",
            "Epoch 24/30\n",
            "1719/1719 [==============================] - 6s 3ms/step - loss: 0.0410 - accuracy: 0.9895 - val_loss: 0.0734 - val_accuracy: 0.9790\n",
            "Epoch 25/30\n",
            "1719/1719 [==============================] - 6s 3ms/step - loss: 0.0388 - accuracy: 0.9900 - val_loss: 0.0703 - val_accuracy: 0.9800\n",
            "Epoch 26/30\n",
            "1719/1719 [==============================] - 6s 3ms/step - loss: 0.0364 - accuracy: 0.9908 - val_loss: 0.0698 - val_accuracy: 0.9788\n",
            "Epoch 27/30\n",
            "1719/1719 [==============================] - 6s 3ms/step - loss: 0.0343 - accuracy: 0.9913 - val_loss: 0.0691 - val_accuracy: 0.9800\n",
            "Epoch 28/30\n",
            "1719/1719 [==============================] - 6s 3ms/step - loss: 0.0324 - accuracy: 0.9919 - val_loss: 0.0688 - val_accuracy: 0.9788\n",
            "Epoch 29/30\n",
            "1719/1719 [==============================] - 6s 3ms/step - loss: 0.0306 - accuracy: 0.9931 - val_loss: 0.0688 - val_accuracy: 0.9800\n",
            "Epoch 30/30\n",
            "1719/1719 [==============================] - 6s 3ms/step - loss: 0.0289 - accuracy: 0.9932 - val_loss: 0.0687 - val_accuracy: 0.9806\n"
          ],
          "name": "stdout"
        }
      ]
    },
    {
      "cell_type": "code",
      "metadata": {
        "colab": {
          "base_uri": "https://localhost:8080/",
          "height": 324
        },
        "id": "kJjOGjejxR-R",
        "outputId": "748e0521-24c2-4561-e017-6691261b7f20"
      },
      "source": [
        "pd.DataFrame(history.history).plot(figsize=(8,5))\n",
        "plt.grid(True)\n",
        "plt.gca().set_ylim(0,1)\n",
        "plt.show()"
      ],
      "execution_count": null,
      "outputs": [
        {
          "output_type": "display_data",
          "data": {
            "image/png": "[encoded data removed]",
            "text/plain": [
              "<Figure size 576x360 with 1 Axes>"
            ]
          },
          "metadata": {
            "tags": [],
            "needs_background": "light"
          }
        }
      ]
    },
    {
      "cell_type": "code",
      "metadata": {
        "colab": {
          "base_uri": "https://localhost:8080/"
        },
        "id": "-q5jNRJFx-n8",
        "outputId": "af6d6cf4-d993-455e-a472-2b4b8c670d46"
      },
      "source": [
        "model.evaluate(X_test,y_test)"
      ],
      "execution_count": null,
      "outputs": [
        {
          "output_type": "stream",
          "text": [
            "313/313 [==============================] - 1s 2ms/step - loss: 14.9216 - accuracy: 0.9723\n"
          ],
          "name": "stdout"
        },
        {
          "output_type": "execute_result",
          "data": {
            "text/plain": [
              "[14.92164421081543, 0.9722999930381775]"
            ]
          },
          "metadata": {
            "tags": []
          },
          "execution_count": 9
        }
      ]
    },
    {
      "cell_type": "code",
      "metadata": {
        "colab": {
          "base_uri": "https://localhost:8080/"
        },
        "id": "ESIKJRKDx_O3",
        "outputId": "d94c838d-b5b1-479e-ac12-fdf799a63dbb"
      },
      "source": [
        "X_new = X_test[:3]\n",
        "y_proba = model.predict(X_new)\n",
        "y_proba"
      ],
      "execution_count": null,
      "outputs": [
        {
          "output_type": "execute_result",
          "data": {
            "text/plain": [
              "array([[0., 0., 0., 0., 0., 0., 0., 1., 0., 0.],\n",
              "       [0., 0., 1., 0., 0., 0., 0., 0., 0., 0.],\n",
              "       [0., 1., 0., 0., 0., 0., 0., 0., 0., 0.]], dtype=float32)"
            ]
          },
          "metadata": {
            "tags": []
          },
          "execution_count": 10
        }
      ]
    },
    {
      "cell_type": "code",
      "metadata": {
        "colab": {
          "base_uri": "https://localhost:8080/"
        },
        "id": "2P7aAlP-yJZC",
        "outputId": "fff058a6-5c19-4fa3-ddbd-1b519c68f0c1"
      },
      "source": [
        " y_pred = np.argmax(model.predict(X_new), axis=-1)\n",
        " print(y_pred)"
      ],
      "execution_count": null,
      "outputs": [
        {
          "output_type": "stream",
          "text": [
            "[7 2 1]\n"
          ],
          "name": "stdout"
        }
      ]
    },
    {
      "cell_type": "code",
      "metadata": {
        "colab": {
          "base_uri": "https://localhost:8080/",
          "height": 319
        },
        "id": "I_Ncy5_k9F-2",
        "outputId": "4955ef1f-1343-4616-99d2-f81518251f22"
      },
      "source": [
        "# img = Image.open(\"/content/fyPhv.jpg\").convert('L')\n",
        "\n",
        "array = [file for file in glob.glob('/content/drive/MyDrive/Digit-recogniser/Sagar/*.jpg')]\n",
        "print(array)\n",
        "# for x in array:\n",
        "img_array = cv2.imread(array[9])\n",
        "new_array = cv2.cvtColor(img_array, cv2.COLOR_BGR2GRAY)\n",
        "new_array = np.invert(new_array)\n",
        "new_array = cv2.resize(new_array, (28,28))\n",
        "plt.imshow(new_array)\n",
        "new_array = new_array.reshape(1,28,28,1)\n",
        "y_pred = np.argmax(model.predict(new_array), axis=-1)\n",
        "print(y_pred)\n",
        "\n",
        "  # print(new_array.shape)\n",
        "  # print(X_test[0].shape)"
      ],
      "execution_count": null,
      "outputs": [
        {
          "output_type": "stream",
          "text": [
            "['/content/drive/MyDrive/Digit-recogniser/Sagar/InFrame_1622831297046.jpg', '/content/drive/MyDrive/Digit-recogniser/Sagar/InFrame_1622831227181.jpg', '/content/drive/MyDrive/Digit-recogniser/Sagar/InFrame_1622831196987.jpg', '/content/drive/MyDrive/Digit-recogniser/Sagar/InFrame_1622831250140.jpg', '/content/drive/MyDrive/Digit-recogniser/Sagar/InFrame_1622831242872.jpg', '/content/drive/MyDrive/Digit-recogniser/Sagar/InFrame_1622831266084.jpg', '/content/drive/MyDrive/Digit-recogniser/Sagar/InFrame_1622831257990.jpg', '/content/drive/MyDrive/Digit-recogniser/Sagar/InFrame_1622831282581.jpg', '/content/drive/MyDrive/Digit-recogniser/Sagar/InFrame_1622831273663.jpg', '/content/drive/MyDrive/Digit-recogniser/Sagar/InFrame_1622831289846.jpg']\n",
            "[7]\n"
          ],
          "name": "stdout"
        },
        {
          "output_type": "display_data",
          "data": {
            "image/png": "[encoded data removed]",
            "text/plain": [
              "<Figure size 432x288 with 1 Axes>"
            ]
          },
          "metadata": {
            "tags": [],
            "needs_background": "light"
          }
        }
      ]
    },
    {
      "cell_type": "code",
      "metadata": {
        "colab": {
          "base_uri": "https://localhost:8080/"
        },
        "id": "Egctd1Md1BHT",
        "outputId": "e0acb16e-2bc7-4cf5-baf1-5069520cfd06"
      },
      "source": [
        "from google.colab import drive\n",
        "drive.mount('/content/drive')"
      ],
      "execution_count": null,
      "outputs": [
        {
          "output_type": "stream",
          "text": [
            "Mounted at /content/drive\n"
          ],
          "name": "stdout"
        }
      ]
    },
    {
      "cell_type": "code",
      "metadata": {
        "colab": {
          "base_uri": "https://localhost:8080/"
        },
        "id": "VCDC1mBE1ZAc",
        "outputId": "713e5bcd-7447-4b06-9790-de9739b12793"
      },
      "source": [
        "!ls \"/content/drive/MyDrive/Digit-recogniser\""
      ],
      "execution_count": null,
      "outputs": [
        {
          "output_type": "stream",
          "text": [
            "Ishita\tSagar\n"
          ],
          "name": "stdout"
        }
      ]
    },
    {
      "cell_type": "code",
      "metadata": {
        "id": "6z4-aRRd4OXZ",
        "colab": {
          "base_uri": "https://localhost:8080/"
        },
        "outputId": "614c6a3b-64e3-4fab-d7da-5d97d2ad7d69"
      },
      "source": [
        ""
      ],
      "execution_count": null,
      "outputs": [
        {
          "output_type": "stream",
          "text": [
            "[0]\n"
          ],
          "name": "stdout"
        }
      ]
    },
    {
      "cell_type": "code",
      "metadata": {
        "colab": {
          "base_uri": "https://localhost:8080/"
        },
        "id": "1aHjAelY3H0Z",
        "outputId": "00bea1ec-905c-410a-c418-ee905afc111b"
      },
      "source": [
        ""
      ],
      "execution_count": null,
      "outputs": [
        {
          "output_type": "stream",
          "text": [
            "['/content/drive/MyDrive/Digit-recogniser/Ishita/PicsArt_06-04-11.33.56.jpg', '/content/drive/MyDrive/Digit-recogniser/Ishita/PicsArt_06-04-11.33.44.jpg', '/content/drive/MyDrive/Digit-recogniser/Ishita/PicsArt_06-04-11.33.32.jpg', '/content/drive/MyDrive/Digit-recogniser/Ishita/PicsArt_06-04-11.33.15.jpg', '/content/drive/MyDrive/Digit-recogniser/Ishita/PicsArt_06-04-11.33.03.jpg', '/content/drive/MyDrive/Digit-recogniser/Ishita/PicsArt_06-04-11.32.46.jpg', '/content/drive/MyDrive/Digit-recogniser/Ishita/PicsArt_06-04-11.32.09.jpg', '/content/drive/MyDrive/Digit-recogniser/Ishita/PicsArt_06-04-11.31.46.jpg', '/content/drive/MyDrive/Digit-recogniser/Ishita/PicsArt_06-04-11.31.19.jpg', '/content/drive/MyDrive/Digit-recogniser/Ishita/PicsArt_06-04-11.31.36.jpg']\n"
          ],
          "name": "stdout"
        }
      ]
    },
    {
      "cell_type": "code",
      "metadata": {
        "id": "U9ocgk9A34GB"
      },
      "source": [
        "import glob\n"
      ],
      "execution_count": null,
      "outputs": []
    }
  ]
}